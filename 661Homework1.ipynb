{
 "cells": [
  {
   "cell_type": "code",
   "execution_count": 1,
   "id": "f8bf2958-abc5-4ec3-bfe6-a0190bc725f3",
   "metadata": {},
   "outputs": [
    {
     "name": "stdout",
     "output_type": "stream",
     "text": [
      "1\t1\t1\t\n",
      "2\t4\t8\t\n",
      "3\t9\t27\t\n",
      "4\t16\t64\t\n",
      "5\t25\t125\t\n"
     ]
    }
   ],
   "source": [
    "#1. Write a script that calculates the squares and cubes of the numbers from 1 to 5.  \n",
    "#Print the resulting values in a table format.\n",
    "#Use the tab escape sequence to achieve the output.\n",
    "\n",
    "for i in range (1,6): #1,2,3,4, and 5\n",
    "    square = i**2 \n",
    "    cube = i**3\n",
    "    print(f\"{i}\\t{square}\\t{cube}\\t\") #print number, its square and its cube with tabs in between"
   ]
  },
  {
   "cell_type": "code",
   "execution_count": 3,
   "id": "fdf09e65-5122-4dc6-b2e4-fec5be299561",
   "metadata": {},
   "outputs": [
    {
     "name": "stdin",
     "output_type": "stream",
     "text": [
      "Enter the first integer: 5\n",
      "Enter the second integer: 6\n",
      "Enter the third integer: 7\n"
     ]
    },
    {
     "name": "stdout",
     "output_type": "stream",
     "text": [
      "The sum of the integers is 18.\n",
      "The average of the integers is 6.0.\n",
      "The product of the integers is 210.\n",
      "The smallest of the integers is 5.\n",
      "The greatest of the integers is 7.\n"
     ]
    }
   ],
   "source": [
    "#2. Write a script that inputs three integers from a user. \n",
    "#Display the sum, average, product, smallest and greatest of the numbers.  \n",
    "#Be sure to label each output. \n",
    "\n",
    "integer1 = int(input(\"Enter the first integer:\"))\n",
    "integer2 = int(input(\"Enter the second integer:\"))\n",
    "integer3 = int(input(\"Enter the third integer:\")) #user inputs 3 integers\n",
    "\n",
    "sum_ints = integer1 + integer2 + integer3 #add the integers\n",
    "average_ints = sum_ints / 3 #divide sum by number of integers, int() type\n",
    "product_ints = integer1 * integer2 * integer3 #multiply integers\n",
    "smallest_ints = min(integer1, integer2, integer3) #store least integer\n",
    "greatest_ints = max(integer1, integer2, integer3) #store greatest integer\n",
    "\n",
    "#print all of the outputs\n",
    "print(f\"The sum of the integers is {sum_ints}.\")\n",
    "print(f\"The average of the integers is {average_ints}.\")\n",
    "print(f\"The product of the integers is {product_ints}.\")\n",
    "print(f\"The smallest of the integers is {smallest_ints}.\")\n",
    "print(f\"The greatest of the integers is {greatest_ints}.\")"
   ]
  },
  {
   "cell_type": "code",
   "execution_count": 5,
   "id": "93cd6293-bdcb-4703-9ffb-2f9b4494dc40",
   "metadata": {},
   "outputs": [
    {
     "name": "stdout",
     "output_type": "stream",
     "text": [
      "Enter 10 numbers:\n"
     ]
    },
    {
     "name": "stdin",
     "output_type": "stream",
     "text": [
      " 20\n",
      " 32\n",
      " 868\n",
      " 3\n",
      " 46\n",
      " 323\n",
      " 43\n",
      " 64\n",
      " 11\n",
      " 12\n"
     ]
    },
    {
     "name": "stdout",
     "output_type": "stream",
     "text": [
      "The largest number is 868.\n"
     ]
    }
   ],
   "source": [
    "#3. Create a loop that finds the largest number of 10 numbers that the user enters.\n",
    "print(\"Enter 10 numbers:\")\n",
    "largest_number = 0 #largest_number starts at 0 and is updated as the loop runs\n",
    "for i in range(1,11): #for 10 numbers\n",
    "    n = int(input()) #input 1 of 10 numbers\n",
    "    if i == 1: # if loop is running the first time\n",
    "        largest_number = n #set largest number to first input number     \n",
    "    elif n > largest_number: #if loop is not first time and n is greater than largest_number     \n",
    "        largest_number = n #n is now largest number\n",
    "print(f\"The largest number is {largest_number}.\") #after 10 numbers, print largest_number"
   ]
  },
  {
   "cell_type": "code",
   "execution_count": 50,
   "id": "51837abb-90e5-4be6-b352-e4a41661617c",
   "metadata": {},
   "outputs": [
    {
     "name": "stdin",
     "output_type": "stream",
     "text": [
      "Enter the purchase price of a dollar or less: $ 0.27\n"
     ]
    },
    {
     "name": "stdout",
     "output_type": "stream",
     "text": [
      "Your change is:\n",
      "2 quarters\n",
      "2 dimes\n",
      "3 pennies\n"
     ]
    }
   ],
   "source": [
    "#4. Write a script that inputs a purchase price of a dollar or less.  \n",
    "#Assume the purchaser pays with a dollar bill. \n",
    "#Determine the amount of change the cashier should give back to them. \n",
    "#Display the change using the fewest amount of pennies, nickels, dimes, and quarters.\n",
    "\n",
    "purchase_price = float(input(\"Enter the purchase price of a dollar or less: $\")) \n",
    "\n",
    "change = 1.00 - purchase_price #float minus float\n",
    "\n",
    "change_amount = 100 - int(purchase_price * 100) #convert float to integer\n",
    "\n",
    "quarters = change_amount // 25 #integer is # of quarters\n",
    "change_amount %= 25 #change_amount is remainder \n",
    "    \n",
    "dimes = change_amount // 10 #integer is # of dimes\n",
    "change_amount %= 10 #change_amount is remainder \n",
    "    \n",
    "nickels = change_amount // 5 #integer is # of nickles\n",
    "change_amount %= 5 #change_amount is remainder \n",
    "    \n",
    "pennies = change_amount #change_amount is # of pennies\n",
    "\n",
    "print(\"Your change is:\")\n",
    "if quarters > 0: #if there are quarters\n",
    "        print(f\"{quarters} quarters\") #print # of quarters + \"quarters\"\n",
    "if dimes > 0: #if there are dimes\n",
    "    print(f\"{dimes} dimes\") #print # of dimes + \"dimes\"\n",
    "if nickels > 0: #if there are nickles\n",
    "    print(f\"{nickels} nickels\") #print # of nickels + \"nickels\"\n",
    "if pennies > 0: #if there are pennies\n",
    "    print(f\"{pennies} pennies\") #print # of pennies + \"pennies"
   ]
  }
 ],
 "metadata": {
  "kernelspec": {
   "display_name": "Python [conda env:base] *",
   "language": "python",
   "name": "conda-base-py"
  },
  "language_info": {
   "codemirror_mode": {
    "name": "ipython",
    "version": 3
   },
   "file_extension": ".py",
   "mimetype": "text/x-python",
   "name": "python",
   "nbconvert_exporter": "python",
   "pygments_lexer": "ipython3",
   "version": "3.12.7"
  }
 },
 "nbformat": 4,
 "nbformat_minor": 5
}
