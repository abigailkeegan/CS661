{
 "cells": [
  {
   "cell_type": "code",
   "execution_count": 3,
   "id": "6c180cda-fa5e-4fd4-a832-13906c7a9033",
   "metadata": {},
   "outputs": [
    {
     "name": "stdout",
     "output_type": "stream",
     "text": [
      "1\t33.8\n",
      "2\t35.6\n",
      "3\t37.4\n",
      "4\t39.2\n",
      "5\t41.0\n",
      "6\t42.8\n",
      "7\t44.6\n",
      "8\t46.4\n",
      "9\t48.2\n",
      "10\t50.0\n",
      "11\t51.8\n",
      "12\t53.6\n",
      "13\t55.4\n",
      "14\t57.2\n",
      "15\t59.0\n",
      "16\t60.8\n",
      "17\t62.6\n",
      "18\t64.4\n",
      "19\t66.2\n",
      "20\t68.0\n",
      "21\t69.8\n",
      "22\t71.6\n",
      "23\t73.4\n",
      "24\t75.2\n",
      "25\t77.0\n",
      "26\t78.8\n",
      "27\t80.6\n",
      "28\t82.4\n",
      "29\t84.2\n",
      "30\t86.0\n",
      "31\t87.8\n",
      "32\t89.6\n",
      "33\t91.4\n",
      "34\t93.2\n",
      "35\t95.0\n",
      "36\t96.8\n",
      "37\t98.6\n",
      "38\t100.4\n",
      "39\t102.2\n",
      "40\t104.0\n",
      "41\t105.8\n",
      "42\t107.6\n",
      "43\t109.4\n",
      "44\t111.2\n",
      "45\t113.0\n",
      "46\t114.8\n",
      "47\t116.6\n",
      "48\t118.4\n",
      "49\t120.2\n",
      "50\t122.0\n",
      "51\t123.8\n",
      "52\t125.6\n",
      "53\t127.4\n",
      "54\t129.2\n",
      "55\t131.0\n",
      "56\t132.8\n",
      "57\t134.6\n",
      "58\t136.4\n",
      "59\t138.2\n",
      "60\t140.0\n",
      "61\t141.8\n",
      "62\t143.6\n",
      "63\t145.4\n",
      "64\t147.2\n",
      "65\t149.0\n",
      "66\t150.8\n",
      "67\t152.6\n",
      "68\t154.4\n",
      "69\t156.2\n",
      "70\t158.0\n",
      "71\t159.8\n",
      "72\t161.6\n",
      "73\t163.4\n",
      "74\t165.2\n",
      "75\t167.0\n",
      "76\t168.8\n",
      "77\t170.6\n",
      "78\t172.4\n",
      "79\t174.2\n",
      "80\t176.0\n",
      "81\t177.8\n",
      "82\t179.6\n",
      "83\t181.4\n",
      "84\t183.2\n",
      "85\t185.0\n",
      "86\t186.8\n",
      "87\t188.6\n",
      "88\t190.4\n",
      "89\t192.2\n",
      "90\t194.0\n",
      "91\t195.8\n",
      "92\t197.6\n",
      "93\t199.4\n",
      "94\t201.2\n",
      "95\t203.0\n",
      "96\t204.8\n",
      "97\t206.6\n",
      "98\t208.4\n",
      "99\t210.2\n",
      "100\t212.0\n"
     ]
    }
   ],
   "source": [
    "#1. Implement a Fahrenheit function that returns the Fahrenheit equivalent of a Celsius temperature. Use the following formula:\n",
    "\n",
    "#F = (9/5) * C + 32\n",
    "\n",
    "#Use this function to print a chart showing the Fahrenheit equivalents of the Celsius temperatures in the range from 1-100. \n",
    "#Print the results in a neat tabular form with one digit of precision.\n",
    "\n",
    "def fahrenheit(c):\n",
    "    \"\"\"This function converts a Celcius temperature input to a Fahrenheit output.\"\"\"\n",
    "    f = (9/5) * c + 32 #Celcius to Fahrenheit formula\n",
    "    return f\n",
    "\n",
    "for c in range(1,101): #Celcius temps 1 to 100\n",
    "    f = fahrenheit(c) #f is Fahrenheit function applied to Celcius\n",
    "    print(f\"{c}\\t{round(f,1)}\") #print Celcius, tab, then Fahrenheit rounded to one tenths"
   ]
  },
  {
   "cell_type": "code",
   "execution_count": 18,
   "id": "8f77d245-d12d-43b3-af82-d499fa04208e",
   "metadata": {},
   "outputs": [
    {
     "name": "stdin",
     "output_type": "stream",
     "text": [
      "Guess a number between 1 and 1000:  500\n"
     ]
    },
    {
     "name": "stdout",
     "output_type": "stream",
     "text": [
      "Your guess is too high. Try again\n"
     ]
    },
    {
     "name": "stdin",
     "output_type": "stream",
     "text": [
      "Guess a number between 1 and 1000:  250\n"
     ]
    },
    {
     "name": "stdout",
     "output_type": "stream",
     "text": [
      "Your guess is too high. Try again\n"
     ]
    },
    {
     "name": "stdin",
     "output_type": "stream",
     "text": [
      "Guess a number between 1 and 1000:  100\n"
     ]
    },
    {
     "name": "stdout",
     "output_type": "stream",
     "text": [
      "Your guess is too low. Try again\n"
     ]
    },
    {
     "name": "stdin",
     "output_type": "stream",
     "text": [
      "Guess a number between 1 and 1000:  150\n"
     ]
    },
    {
     "name": "stdout",
     "output_type": "stream",
     "text": [
      "Your guess is too low. Try again\n"
     ]
    },
    {
     "name": "stdin",
     "output_type": "stream",
     "text": [
      "Guess a number between 1 and 1000:  200\n"
     ]
    },
    {
     "name": "stdout",
     "output_type": "stream",
     "text": [
      "Your guess is too low. Try again\n"
     ]
    },
    {
     "name": "stdin",
     "output_type": "stream",
     "text": [
      "Guess a number between 1 and 1000:  225\n"
     ]
    },
    {
     "name": "stdout",
     "output_type": "stream",
     "text": [
      "Your guess is too high. Try again\n"
     ]
    },
    {
     "name": "stdin",
     "output_type": "stream",
     "text": [
      "Guess a number between 1 and 1000:  210\n"
     ]
    },
    {
     "name": "stdout",
     "output_type": "stream",
     "text": [
      "Your guess is too high. Try again\n"
     ]
    },
    {
     "name": "stdin",
     "output_type": "stream",
     "text": [
      "Guess a number between 1 and 1000:  201\n"
     ]
    },
    {
     "name": "stdout",
     "output_type": "stream",
     "text": [
      "Your guess is too low. Try again\n"
     ]
    },
    {
     "name": "stdin",
     "output_type": "stream",
     "text": [
      "Guess a number between 1 and 1000:  202\n"
     ]
    },
    {
     "name": "stdout",
     "output_type": "stream",
     "text": [
      "Your guess is too low. Try again\n"
     ]
    },
    {
     "name": "stdin",
     "output_type": "stream",
     "text": [
      "Guess a number between 1 and 1000:  203\n"
     ]
    },
    {
     "name": "stdout",
     "output_type": "stream",
     "text": [
      "Your guess is too low. Try again\n"
     ]
    },
    {
     "name": "stdin",
     "output_type": "stream",
     "text": [
      "Guess a number between 1 and 1000:  204\n"
     ]
    },
    {
     "name": "stdout",
     "output_type": "stream",
     "text": [
      "Your guess is too low. Try again\n"
     ]
    },
    {
     "name": "stdin",
     "output_type": "stream",
     "text": [
      "Guess a number between 1 and 1000:  204\n"
     ]
    },
    {
     "name": "stdout",
     "output_type": "stream",
     "text": [
      "Your guess is too low. Try again\n"
     ]
    },
    {
     "name": "stdin",
     "output_type": "stream",
     "text": [
      "Guess a number between 1 and 1000:  205\n"
     ]
    },
    {
     "name": "stdout",
     "output_type": "stream",
     "text": [
      "Your guess is too low. Try again\n"
     ]
    },
    {
     "name": "stdin",
     "output_type": "stream",
     "text": [
      "Guess a number between 1 and 1000:  206\n"
     ]
    },
    {
     "name": "stdout",
     "output_type": "stream",
     "text": [
      "Your guess is too low. Try again\n"
     ]
    },
    {
     "name": "stdin",
     "output_type": "stream",
     "text": [
      "Guess a number between 1 and 1000:  207\n"
     ]
    },
    {
     "name": "stdout",
     "output_type": "stream",
     "text": [
      "Congratulations, you guessed the number 207 in 15 attempts!\n"
     ]
    },
    {
     "name": "stdin",
     "output_type": "stream",
     "text": [
      "Do you want to play again? (y/n):  y\n",
      "Guess a number between 1 and 1000:  500\n"
     ]
    },
    {
     "name": "stdout",
     "output_type": "stream",
     "text": [
      "Your guess is too low. Try again\n"
     ]
    },
    {
     "name": "stdin",
     "output_type": "stream",
     "text": [
      "Guess a number between 1 and 1000:  750\n"
     ]
    },
    {
     "name": "stdout",
     "output_type": "stream",
     "text": [
      "Your guess is too low. Try again\n"
     ]
    },
    {
     "name": "stdin",
     "output_type": "stream",
     "text": [
      "Guess a number between 1 and 1000:  900\n"
     ]
    },
    {
     "name": "stdout",
     "output_type": "stream",
     "text": [
      "Your guess is too high. Try again\n"
     ]
    },
    {
     "name": "stdin",
     "output_type": "stream",
     "text": [
      "Guess a number between 1 and 1000:  800\n"
     ]
    },
    {
     "name": "stdout",
     "output_type": "stream",
     "text": [
      "Your guess is too high. Try again\n"
     ]
    },
    {
     "name": "stdin",
     "output_type": "stream",
     "text": [
      "Guess a number between 1 and 1000:  775\n"
     ]
    },
    {
     "name": "stdout",
     "output_type": "stream",
     "text": [
      "Your guess is too low. Try again\n"
     ]
    },
    {
     "name": "stdin",
     "output_type": "stream",
     "text": [
      "Guess a number between 1 and 1000:  790\n"
     ]
    },
    {
     "name": "stdout",
     "output_type": "stream",
     "text": [
      "Your guess is too high. Try again\n"
     ]
    },
    {
     "name": "stdin",
     "output_type": "stream",
     "text": [
      "Guess a number between 1 and 1000:  780\n"
     ]
    },
    {
     "name": "stdout",
     "output_type": "stream",
     "text": [
      "Your guess is too low. Try again\n"
     ]
    },
    {
     "name": "stdin",
     "output_type": "stream",
     "text": [
      "Guess a number between 1 and 1000:  781\n"
     ]
    },
    {
     "name": "stdout",
     "output_type": "stream",
     "text": [
      "Your guess is too low. Try again\n"
     ]
    },
    {
     "name": "stdin",
     "output_type": "stream",
     "text": [
      "Guess a number between 1 and 1000:  782\n"
     ]
    },
    {
     "name": "stdout",
     "output_type": "stream",
     "text": [
      "Your guess is too low. Try again\n"
     ]
    },
    {
     "name": "stdin",
     "output_type": "stream",
     "text": [
      "Guess a number between 1 and 1000:  783\n"
     ]
    },
    {
     "name": "stdout",
     "output_type": "stream",
     "text": [
      "Your guess is too low. Try again\n"
     ]
    },
    {
     "name": "stdin",
     "output_type": "stream",
     "text": [
      "Guess a number between 1 and 1000:  784\n"
     ]
    },
    {
     "name": "stdout",
     "output_type": "stream",
     "text": [
      "Your guess is too low. Try again\n"
     ]
    },
    {
     "name": "stdin",
     "output_type": "stream",
     "text": [
      "Guess a number between 1 and 1000:  785\n"
     ]
    },
    {
     "name": "stdout",
     "output_type": "stream",
     "text": [
      "Your guess is too low. Try again\n"
     ]
    },
    {
     "name": "stdin",
     "output_type": "stream",
     "text": [
      "Guess a number between 1 and 1000:  786\n"
     ]
    },
    {
     "name": "stdout",
     "output_type": "stream",
     "text": [
      "Your guess is too low. Try again\n"
     ]
    },
    {
     "name": "stdin",
     "output_type": "stream",
     "text": [
      "Guess a number between 1 and 1000:  787\n"
     ]
    },
    {
     "name": "stdout",
     "output_type": "stream",
     "text": [
      "Your guess is too low. Try again\n"
     ]
    },
    {
     "name": "stdin",
     "output_type": "stream",
     "text": [
      "Guess a number between 1 and 1000:  788\n"
     ]
    },
    {
     "name": "stdout",
     "output_type": "stream",
     "text": [
      "Your guess is too low. Try again\n"
     ]
    },
    {
     "name": "stdin",
     "output_type": "stream",
     "text": [
      "Guess a number between 1 and 1000:  789\n"
     ]
    },
    {
     "name": "stdout",
     "output_type": "stream",
     "text": [
      "Congratulations, you guessed the number 789 in 16 attempts!\n"
     ]
    },
    {
     "name": "stdin",
     "output_type": "stream",
     "text": [
      "Do you want to play again? (y/n):  n\n"
     ]
    },
    {
     "name": "stdout",
     "output_type": "stream",
     "text": [
      "Goodbye.\n"
     ]
    }
   ],
   "source": [
    "#2. Create a number that plays a guess the number game.  \n",
    "#Use a random number generator that chooses a number between 1 and 1000.  \n",
    "#It should not be revealed to the user until they guess the number correctly.  \n",
    "#It should prompt the user to input a number between 1 and 1000.  \n",
    "#If the guess is wrong, it should either let them know if the guess was too high or too low along with try again. \n",
    "#It should congratulate them once they guess correctly, how many guesses it took, and ask them to play again.  \n",
    "\n",
    "import random\n",
    "\n",
    "def guess_the_number():\n",
    "    \"\"\"Plays a game where the user tries to guess a random number between 1 and 1000.\"\"\"\n",
    "    random_number = random.randint(1, 1000) #select a random number between 1 and 1000\n",
    "    guesses = 0 #track number of guesses\n",
    "\n",
    "    while True:\n",
    "        try:\n",
    "            guess = int(input(\"Guess a number between 1 and 1000: \"))\n",
    "            guesses += 1 #increases guesses by 1\n",
    "            if guess == random_number:\n",
    "                print(f\"Congratulations, you guessed the number {random_number} in {guesses} attempts!\")\n",
    "                break #go to play_again\n",
    "            elif guess < random_number:\n",
    "                print(\"Your guess is too low. Try again\")\n",
    "            else:\n",
    "                print(\"Your guess is too high. Try again\")\n",
    "        except ValueError:\n",
    "            print(\"Invalid input. Please enter a number between 1 and 1000.\")\n",
    "\n",
    "    play_again = input(\"Do you want to play again? (y/n): \")\n",
    "    if play_again == 'y': #player wants to play again\n",
    "        guess_the_number() #game starts again\n",
    "    else:\n",
    "        print(\"Goodbye.\") #game ends\n",
    "\n",
    "if __name__ == \"__main__\":\n",
    "    guess_the_number()"
   ]
  },
  {
   "cell_type": "code",
   "execution_count": 16,
   "id": "a8b65a8e-989b-46e3-92a4-c016ff593f2e",
   "metadata": {},
   "outputs": [
    {
     "name": "stdin",
     "output_type": "stream",
     "text": [
      "How much is -9 times 6? 49\n"
     ]
    },
    {
     "name": "stdout",
     "output_type": "stream",
     "text": [
      "Incorrect. Please try again.\n"
     ]
    },
    {
     "name": "stdin",
     "output_type": "stream",
     "text": [
      "How much is -9 times 6? -54\n"
     ]
    },
    {
     "name": "stdout",
     "output_type": "stream",
     "text": [
      "Very good!\n"
     ]
    },
    {
     "name": "stdin",
     "output_type": "stream",
     "text": [
      "Do you want to answer another multiplication problem? (y/n):  y\n",
      "How much is 3 times -7? -21\n"
     ]
    },
    {
     "name": "stdout",
     "output_type": "stream",
     "text": [
      "Very good!\n"
     ]
    },
    {
     "name": "stdin",
     "output_type": "stream",
     "text": [
      "Do you want to answer another multiplication problem? (y/n):  y\n",
      "How much is -9 times -1? 9\n"
     ]
    },
    {
     "name": "stdout",
     "output_type": "stream",
     "text": [
      "Very good!\n"
     ]
    },
    {
     "name": "stdin",
     "output_type": "stream",
     "text": [
      "Do you want to answer another multiplication problem? (y/n):  n\n"
     ]
    },
    {
     "name": "stdout",
     "output_type": "stream",
     "text": [
      "Goodbye.\n"
     ]
    }
   ],
   "source": [
    "#3. Create a script that helps a student learn multiplication.  \n",
    "#Create a function that randomly generates two single digit integers.  \n",
    "#Use the function’s result in your script to prompt the user a question such as “How much is 6 times 7?”. \n",
    "#If the answer is correct, it should say “Very good!” and ask another multiplication question if the user wishes to do another question.  \n",
    "#If it is incorrect, it should ask the user to try again and continue to do so until it is correct.  \n",
    "#Please demonstrate that both operations work correctly.\n",
    "\n",
    "\n",
    "import random\n",
    "\n",
    "def multiplying():\n",
    "     \"\"\"Plays a game where the user inputs the product of two single digit multiplicands.\"\"\"\n",
    "    int1 = random.randint(-9, 9) #generate a random single digit integer\n",
    "    int2= random.randint(-9, 9) #generate another random single digit integer\n",
    "    while True:\n",
    "        try:\n",
    "            answer = int(input(f\"How much is {int1} times {int2}?\"))\n",
    "            if answer == int1 * int2: #answer is correct\n",
    "                print(\"Very good!\")\n",
    "                break #goes to play_again\n",
    "            else: #answer is incorrect\n",
    "                print(\"Incorrect. Please try again.\")\n",
    "        except ValueError:\n",
    "            print(\"Invalid input. Please enter the product as a number.\")\n",
    "\n",
    "    play_again = input(\"Do you want to answer another multiplication problem? (y/n): \")\n",
    "    if play_again == 'y': #player wants another question\n",
    "        multiplying() #the player is presented another question\n",
    "    else:\n",
    "        print(\"Goodbye.\") #game ends\n",
    "\n",
    "if __name__ == \"__main__\":\n",
    "    multiplying()"
   ]
  }
 ],
 "metadata": {
  "kernelspec": {
   "display_name": "Python [conda env:base] *",
   "language": "python",
   "name": "conda-base-py"
  },
  "language_info": {
   "codemirror_mode": {
    "name": "ipython",
    "version": 3
   },
   "file_extension": ".py",
   "mimetype": "text/x-python",
   "name": "python",
   "nbconvert_exporter": "python",
   "pygments_lexer": "ipython3",
   "version": "3.12.7"
  }
 },
 "nbformat": 4,
 "nbformat_minor": 5
}
